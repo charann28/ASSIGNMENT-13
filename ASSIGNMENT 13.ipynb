{
 "cells": [
  {
   "cell_type": "code",
   "execution_count": null,
   "id": "d98114d2",
   "metadata": {},
   "outputs": [],
   "source": [
    "1. What advantages do Excel spreadsheets have over CSV spreadsheets?\n",
    "answer:\n",
    "    CSV: CSV refers to Comma-Separated Values. \n",
    "        It holds plain text as a series of values (cells) separated by commas (, ) in a series of lines (rows).\n",
    "    Excel: Microsoft Excel is used to displays the data in horizontal and vertical rows. \n",
    "        The data are usually stored in the cells. We have an option of formulas in Excel that can be used for data and its place of storage.    "
   ]
  },
  {
   "cell_type": "code",
   "execution_count": null,
   "id": "b734793b",
   "metadata": {},
   "outputs": [],
   "source": [
    "2.What do you pass to csv.reader() and csv.writer() to create reader and writer objects?\n",
    "ANSWER:\n",
    "    import csv\n",
    "    with open('text.csv','r') as file:\n",
    "    csv_file = csv.reader(file,delimiter=',')\n",
    "    for ele in csv_file:\n",
    "        print(ele)"
   ]
  },
  {
   "cell_type": "code",
   "execution_count": null,
   "id": "91adfa53",
   "metadata": {},
   "outputs": [],
   "source": [
    "3. What modes do File objects for reader and writer objects need to be opened in?\n",
    "answer:\n",
    "    For csv.reader(), the file objects needed to be opened in read mode mode='r' \n",
    "    Whereas for csv.writer() the file objects needed to be opened in write mode mode='w'"
   ]
  },
  {
   "cell_type": "code",
   "execution_count": null,
   "id": "4bbe55ee",
   "metadata": {},
   "outputs": [],
   "source": [
    "4. What method takes a list argument and writes it to a CSV file?\n",
    "ANSWER:\n",
    "    csv.writer class provides two methods for writing to CSV. They are writerow() and writerows(). writerow() method writes a single row at a time.\n",
    "    Whereas writerows() method is used to write multiple rows at a time."
   ]
  },
  {
   "cell_type": "code",
   "execution_count": null,
   "id": "1fe126a9",
   "metadata": {},
   "outputs": [],
   "source": [
    "5. What do the keyword arguments delimiter and line terminator do?\n",
    "ANSWER:\n",
    "    Lets take the example of a csv file:\n",
    "    First Name, Last Name, Age\n",
    "    Mano, Vishnu, 24\n",
    "    Vishnu, Vardhan, 21\n",
    "    Here ',' is Delimiter. We can use any Character as per our needs if required. \n",
    "    Similarly Line Terminator comes at end of line by default it is newline and can be changed accourding to Requirement."
   ]
  },
  {
   "cell_type": "code",
   "execution_count": null,
   "id": "522237c9",
   "metadata": {},
   "outputs": [],
   "source": [
    "6. What function takes a string of JSON data and returns a Python data structure?\n",
    "ANSWER:\n",
    "    loads() method takes a string of JSON data and returns a Python data structure"
   ]
  },
  {
   "cell_type": "code",
   "execution_count": null,
   "id": "8a51fd0e",
   "metadata": {},
   "outputs": [],
   "source": [
    "7. What function takes a Python data structure and returns a string of JSON data?\n",
    "ANSWER:\n",
    "    dumps() method takes a python data structure and returns a string of JSON data"
   ]
  }
 ],
 "metadata": {
  "kernelspec": {
   "display_name": "Python 3 (ipykernel)",
   "language": "python",
   "name": "python3"
  },
  "language_info": {
   "codemirror_mode": {
    "name": "ipython",
    "version": 3
   },
   "file_extension": ".py",
   "mimetype": "text/x-python",
   "name": "python",
   "nbconvert_exporter": "python",
   "pygments_lexer": "ipython3",
   "version": "3.9.13"
  }
 },
 "nbformat": 4,
 "nbformat_minor": 5
}
